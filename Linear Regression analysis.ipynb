{
 "cells": [
  {
   "cell_type": "markdown",
   "id": "e3bafbb1-f1d5-4db1-8db8-2226f71e9085",
   "metadata": {},
   "source": [
    "# LinearRegression\n",
    "### To assess dependency of salary on years of experience of working professionals.Dataset is sourced from kaggle."
   ]
  },
  {
   "cell_type": "code",
   "execution_count": 1,
   "id": "5e7ded3d-280d-4fa0-9345-83d77a5dc47a",
   "metadata": {},
   "outputs": [],
   "source": [
    "import numpy as np\n",
    "import pandas as pd\n",
    "import matplotlib.pyplot as plt\n"
   ]
  },
  {
   "cell_type": "code",
   "execution_count": 20,
   "id": "06604b58-43db-4f1a-82e0-dc87571618d6",
   "metadata": {},
   "outputs": [
    {
     "name": "stdout",
     "output_type": "stream",
     "text": [
      "Collecting scikit-learn\n",
      "  Downloading scikit_learn-1.3.2-cp38-cp38-win_amd64.whl.metadata (11 kB)\n",
      "Requirement already satisfied: numpy<2.0,>=1.17.3 in c:\\python\\python38\\lib\\site-packages (from scikit-learn) (1.24.4)\n",
      "Collecting scipy>=1.5.0 (from scikit-learn)\n",
      "  Downloading scipy-1.10.1-cp38-cp38-win_amd64.whl.metadata (58 kB)\n",
      "Collecting joblib>=1.1.1 (from scikit-learn)\n",
      "  Downloading joblib-1.4.2-py3-none-any.whl.metadata (5.4 kB)\n",
      "Collecting threadpoolctl>=2.0.0 (from scikit-learn)\n",
      "  Downloading threadpoolctl-3.5.0-py3-none-any.whl.metadata (13 kB)\n",
      "Downloading scikit_learn-1.3.2-cp38-cp38-win_amd64.whl (9.3 MB)\n",
      "   ---------------------------------------- 0.0/9.3 MB ? eta -:--:--\n",
      "   - -------------------------------------- 0.3/9.3 MB ? eta -:--:--\n",
      "   ------- -------------------------------- 1.8/9.3 MB 5.0 MB/s eta 0:00:02\n",
      "   ------------ --------------------------- 2.9/9.3 MB 4.5 MB/s eta 0:00:02\n",
      "   ---------------- ----------------------- 3.9/9.3 MB 4.4 MB/s eta 0:00:02\n",
      "   -------------------- ------------------- 4.7/9.3 MB 4.3 MB/s eta 0:00:02\n",
      "   ----------------------- ---------------- 5.5/9.3 MB 4.2 MB/s eta 0:00:01\n",
      "   --------------------------- ------------ 6.3/9.3 MB 4.1 MB/s eta 0:00:01\n",
      "   ------------------------------ --------- 7.1/9.3 MB 4.1 MB/s eta 0:00:01\n",
      "   --------------------------------- ------ 7.9/9.3 MB 4.1 MB/s eta 0:00:01\n",
      "   -------------------------------------- - 8.9/9.3 MB 4.0 MB/s eta 0:00:01\n",
      "   ---------------------------------------  9.2/9.3 MB 4.0 MB/s eta 0:00:01\n",
      "   ---------------------------------------- 9.3/9.3 MB 3.6 MB/s eta 0:00:00\n",
      "Downloading joblib-1.4.2-py3-none-any.whl (301 kB)\n",
      "Downloading scipy-1.10.1-cp38-cp38-win_amd64.whl (42.2 MB)\n",
      "   ---------------------------------------- 0.0/42.2 MB ? eta -:--:--\n",
      "    --------------------------------------- 1.0/42.2 MB 4.6 MB/s eta 0:00:10\n",
      "   - -------------------------------------- 2.1/42.2 MB 4.7 MB/s eta 0:00:09\n",
      "   -- ------------------------------------- 2.9/42.2 MB 4.4 MB/s eta 0:00:09\n",
      "   --- ------------------------------------ 3.7/42.2 MB 4.3 MB/s eta 0:00:10\n",
      "   ---- ----------------------------------- 4.5/42.2 MB 4.2 MB/s eta 0:00:10\n",
      "   ---- ----------------------------------- 5.2/42.2 MB 4.1 MB/s eta 0:00:09\n",
      "   ----- ---------------------------------- 6.0/42.2 MB 4.1 MB/s eta 0:00:09\n",
      "   ------ --------------------------------- 6.8/42.2 MB 4.0 MB/s eta 0:00:09\n",
      "   ------- -------------------------------- 7.9/42.2 MB 4.1 MB/s eta 0:00:09\n",
      "   -------- ------------------------------- 8.7/42.2 MB 4.0 MB/s eta 0:00:09\n",
      "   -------- ------------------------------- 9.4/42.2 MB 4.0 MB/s eta 0:00:09\n",
      "   --------- ------------------------------ 10.2/42.2 MB 4.0 MB/s eta 0:00:08\n",
      "   ---------- ----------------------------- 11.3/42.2 MB 4.0 MB/s eta 0:00:08\n",
      "   ----------- ---------------------------- 12.1/42.2 MB 4.0 MB/s eta 0:00:08\n",
      "   ------------ --------------------------- 12.8/42.2 MB 4.0 MB/s eta 0:00:08\n",
      "   ------------ --------------------------- 13.6/42.2 MB 4.0 MB/s eta 0:00:08\n",
      "   ------------- -------------------------- 14.4/42.2 MB 4.0 MB/s eta 0:00:08\n",
      "   -------------- ------------------------- 15.2/42.2 MB 4.0 MB/s eta 0:00:07\n",
      "   --------------- ------------------------ 16.0/42.2 MB 4.0 MB/s eta 0:00:07\n",
      "   --------------- ------------------------ 16.8/42.2 MB 3.9 MB/s eta 0:00:07\n",
      "   ---------------- ----------------------- 17.8/42.2 MB 3.9 MB/s eta 0:00:07\n",
      "   ----------------- ---------------------- 18.6/42.2 MB 3.9 MB/s eta 0:00:07\n",
      "   ------------------ --------------------- 19.1/42.2 MB 3.9 MB/s eta 0:00:06\n",
      "   ------------------- -------------------- 20.2/42.2 MB 3.9 MB/s eta 0:00:06\n",
      "   ------------------- -------------------- 21.0/42.2 MB 3.9 MB/s eta 0:00:06\n",
      "   -------------------- ------------------- 21.8/42.2 MB 3.9 MB/s eta 0:00:06\n",
      "   --------------------- ------------------ 22.5/42.2 MB 3.9 MB/s eta 0:00:06\n",
      "   ---------------------- ----------------- 23.3/42.2 MB 3.9 MB/s eta 0:00:05\n",
      "   ---------------------- ----------------- 24.1/42.2 MB 3.9 MB/s eta 0:00:05\n",
      "   ----------------------- ---------------- 24.9/42.2 MB 3.9 MB/s eta 0:00:05\n",
      "   ------------------------ --------------- 25.7/42.2 MB 3.9 MB/s eta 0:00:05\n",
      "   ------------------------- -------------- 26.5/42.2 MB 3.9 MB/s eta 0:00:05\n",
      "   -------------------------- ------------- 27.5/42.2 MB 3.9 MB/s eta 0:00:04\n",
      "   -------------------------- ------------- 28.3/42.2 MB 3.9 MB/s eta 0:00:04\n",
      "   --------------------------- ------------ 29.1/42.2 MB 3.9 MB/s eta 0:00:04\n",
      "   ---------------------------- ----------- 29.9/42.2 MB 3.9 MB/s eta 0:00:04\n",
      "   ----------------------------- ---------- 30.7/42.2 MB 3.9 MB/s eta 0:00:03\n",
      "   ----------------------------- ---------- 31.5/42.2 MB 3.9 MB/s eta 0:00:03\n",
      "   ------------------------------ --------- 32.5/42.2 MB 3.9 MB/s eta 0:00:03\n",
      "   ------------------------------- -------- 33.3/42.2 MB 3.9 MB/s eta 0:00:03\n",
      "   -------------------------------- ------- 34.1/42.2 MB 3.9 MB/s eta 0:00:03\n",
      "   --------------------------------- ------ 34.9/42.2 MB 3.9 MB/s eta 0:00:02\n",
      "   --------------------------------- ------ 35.7/42.2 MB 3.9 MB/s eta 0:00:02\n",
      "   ---------------------------------- ----- 36.7/42.2 MB 3.9 MB/s eta 0:00:02\n",
      "   ----------------------------------- ---- 37.5/42.2 MB 3.9 MB/s eta 0:00:02\n",
      "   ------------------------------------ --- 38.3/42.2 MB 3.9 MB/s eta 0:00:02\n",
      "   ------------------------------------- -- 39.1/42.2 MB 3.9 MB/s eta 0:00:01\n",
      "   ------------------------------------- -- 39.8/42.2 MB 3.9 MB/s eta 0:00:01\n",
      "   -------------------------------------- - 40.6/42.2 MB 3.9 MB/s eta 0:00:01\n",
      "   ---------------------------------------  41.4/42.2 MB 3.9 MB/s eta 0:00:01\n",
      "   ---------------------------------------  42.2/42.2 MB 3.9 MB/s eta 0:00:01\n",
      "   ---------------------------------------  42.2/42.2 MB 3.9 MB/s eta 0:00:01\n",
      "   ---------------------------------------  42.2/42.2 MB 3.9 MB/s eta 0:00:01\n",
      "   ---------------------------------------  42.2/42.2 MB 3.9 MB/s eta 0:00:01\n",
      "   ---------------------------------------- 42.2/42.2 MB 3.6 MB/s eta 0:00:00\n",
      "Downloading threadpoolctl-3.5.0-py3-none-any.whl (18 kB)\n",
      "Installing collected packages: threadpoolctl, scipy, joblib, scikit-learn\n",
      "Successfully installed joblib-1.4.2 scikit-learn-1.3.2 scipy-1.10.1 threadpoolctl-3.5.0\n"
     ]
    },
    {
     "name": "stderr",
     "output_type": "stream",
     "text": [
      "\n",
      "[notice] A new release of pip is available: 24.2 -> 24.3.1\n",
      "[notice] To update, run: python.exe -m pip install --upgrade pip\n"
     ]
    }
   ],
   "source": [
    "!pip install -U scikit-learn"
   ]
  },
  {
   "cell_type": "code",
   "execution_count": 8,
   "id": "437d5233-72c5-4c4a-9510-441dbd6d18b3",
   "metadata": {},
   "outputs": [
    {
     "name": "stdout",
     "output_type": "stream",
     "text": [
      "Collecting openpyxl\n",
      "  Downloading openpyxl-3.1.5-py2.py3-none-any.whl.metadata (2.5 kB)\n",
      "Collecting et-xmlfile (from openpyxl)\n",
      "  Downloading et_xmlfile-2.0.0-py3-none-any.whl.metadata (2.7 kB)\n",
      "Downloading openpyxl-3.1.5-py2.py3-none-any.whl (250 kB)\n",
      "Downloading et_xmlfile-2.0.0-py3-none-any.whl (18 kB)\n",
      "Installing collected packages: et-xmlfile, openpyxl\n",
      "Successfully installed et-xmlfile-2.0.0 openpyxl-3.1.5\n"
     ]
    },
    {
     "name": "stderr",
     "output_type": "stream",
     "text": [
      "\n",
      "[notice] A new release of pip is available: 24.2 -> 24.3.1\n",
      "[notice] To update, run: python.exe -m pip install --upgrade pip\n"
     ]
    }
   ],
   "source": [
    "!pip install openpyxl"
   ]
  },
  {
   "cell_type": "code",
   "execution_count": 10,
   "id": "0d8922f3-d2c8-42c2-97fa-c13e22e1e22f",
   "metadata": {},
   "outputs": [
    {
     "data": {
      "text/html": [
       "<div>\n",
       "<style scoped>\n",
       "    .dataframe tbody tr th:only-of-type {\n",
       "        vertical-align: middle;\n",
       "    }\n",
       "\n",
       "    .dataframe tbody tr th {\n",
       "        vertical-align: top;\n",
       "    }\n",
       "\n",
       "    .dataframe thead th {\n",
       "        text-align: right;\n",
       "    }\n",
       "</style>\n",
       "<table border=\"1\" class=\"dataframe\">\n",
       "  <thead>\n",
       "    <tr style=\"text-align: right;\">\n",
       "      <th></th>\n",
       "      <th>YearsExperience</th>\n",
       "      <th>Salary</th>\n",
       "    </tr>\n",
       "  </thead>\n",
       "  <tbody>\n",
       "    <tr>\n",
       "      <th>0</th>\n",
       "      <td>1.1</td>\n",
       "      <td>39343</td>\n",
       "    </tr>\n",
       "    <tr>\n",
       "      <th>1</th>\n",
       "      <td>1.3</td>\n",
       "      <td>46205</td>\n",
       "    </tr>\n",
       "    <tr>\n",
       "      <th>2</th>\n",
       "      <td>1.5</td>\n",
       "      <td>37731</td>\n",
       "    </tr>\n",
       "    <tr>\n",
       "      <th>3</th>\n",
       "      <td>2.2</td>\n",
       "      <td>39891</td>\n",
       "    </tr>\n",
       "    <tr>\n",
       "      <th>4</th>\n",
       "      <td>2.9</td>\n",
       "      <td>56642</td>\n",
       "    </tr>\n",
       "  </tbody>\n",
       "</table>\n",
       "</div>"
      ],
      "text/plain": [
       "   YearsExperience  Salary\n",
       "0              1.1   39343\n",
       "1              1.3   46205\n",
       "2              1.5   37731\n",
       "3              2.2   39891\n",
       "4              2.9   56642"
      ]
     },
     "execution_count": 10,
     "metadata": {},
     "output_type": "execute_result"
    }
   ],
   "source": [
    "df=pd.read_excel(\"Salary.xlsx\")\n",
    "df.head()"
   ]
  },
  {
   "cell_type": "code",
   "execution_count": 12,
   "id": "d5e3d4f9-2b29-479d-b019-76a7c208a076",
   "metadata": {},
   "outputs": [
    {
     "data": {
      "text/plain": [
       "Text(0, 0.5, 'salary')"
      ]
     },
     "execution_count": 12,
     "metadata": {},
     "output_type": "execute_result"
    },
    {
     "data": {
      "image/png": "[encoded data removed]",
      "text/plain": [
       "<Figure size 640x480 with 1 Axes>"
      ]
     },
     "metadata": {},
     "output_type": "display_data"
    }
   ],
   "source": [
    "plt.scatter(df['YearsExperience'],df['Salary'])\n",
    "plt.xlabel('YoE')\n",
    "plt.ylabel('salary')"
   ]
  },
  {
   "cell_type": "markdown",
   "id": "6b44e475-e038-45b1-9118-137747bf7152",
   "metadata": {},
   "source": [
    "## Splitting data into input and ouput variable"
   ]
  },
  {
   "cell_type": "code",
   "execution_count": 14,
   "id": "ac825ed5-763b-42ce-96c6-e548acf5e456",
   "metadata": {},
   "outputs": [],
   "source": [
    "X=df.iloc[:,0:1]"
   ]
  },
  {
   "cell_type": "code",
   "execution_count": 15,
   "id": "2b016a27-5c3f-4f35-882e-fc3e1c0c2210",
   "metadata": {},
   "outputs": [],
   "source": [
    "y=df.iloc[:,-1]"
   ]
  },
  {
   "cell_type": "code",
   "execution_count": 23,
   "id": "071f1002-a65e-4b3e-9653-60b099b83b85",
   "metadata": {},
   "outputs": [],
   "source": [
    "from sklearn.model_selection import train_test_split\n",
    "X_train,X_test,y_train,y_test=train_test_split(X,y,test_size=0.4)"
   ]
  },
  {
   "cell_type": "code",
   "execution_count": 24,
   "id": "ef72c107-274d-4a63-a392-c13170955c6d",
   "metadata": {},
   "outputs": [],
   "source": [
    "from sklearn.linear_model import LinearRegression"
   ]
  },
  {
   "cell_type": "code",
   "execution_count": 25,
   "id": "73e3f064-6bdd-411b-9a0e-a7dd046ee3f6",
   "metadata": {},
   "outputs": [],
   "source": [
    "lr=LinearRegression()"
   ]
  },
  {
   "cell_type": "code",
   "execution_count": 26,
   "id": "7ccdb200-e749-40c8-8c5a-bd03c165f65c",
   "metadata": {},
   "outputs": [
    {
     "data": {
      "text/html": [
       "<style>#sk-container-id-1 {color: black;}#sk-container-id-1 pre{padding: 0;}#sk-container-id-1 div.sk-toggleable {background-color: white;}#sk-container-id-1 label.sk-toggleable__label {cursor: pointer;display: block;width: 100%;margin-bottom: 0;padding: 0.3em;box-sizing: border-box;text-align: center;}#sk-container-id-1 label.sk-toggleable__label-arrow:before {content: \"▸\";float: left;margin-right: 0.25em;color: #696969;}#sk-container-id-1 label.sk-toggleable__label-arrow:hover:before {color: black;}#sk-container-id-1 div.sk-estimator:hover label.sk-toggleable__label-arrow:before {color: black;}#sk-container-id-1 div.sk-toggleable__content {max-height: 0;max-width: 0;overflow: hidden;text-align: left;background-color: #f0f8ff;}#sk-container-id-1 div.sk-toggleable__content pre {margin: 0.2em;color: black;border-radius: 0.25em;background-color: #f0f8ff;}#sk-container-id-1 input.sk-toggleable__control:checked~div.sk-toggleable__content {max-height: 200px;max-width: 100%;overflow: auto;}#sk-container-id-1 input.sk-toggleable__control:checked~label.sk-toggleable__label-arrow:before {content: \"▾\";}#sk-container-id-1 div.sk-estimator input.sk-toggleable__control:checked~label.sk-toggleable__label {background-color: #d4ebff;}#sk-container-id-1 div.sk-label input.sk-toggleable__control:checked~label.sk-toggleable__label {background-color: #d4ebff;}#sk-container-id-1 input.sk-hidden--visually {border: 0;clip: rect(1px 1px 1px 1px);clip: rect(1px, 1px, 1px, 1px);height: 1px;margin: -1px;overflow: hidden;padding: 0;position: absolute;width: 1px;}#sk-container-id-1 div.sk-estimator {font-family: monospace;background-color: #f0f8ff;border: 1px dotted black;border-radius: 0.25em;box-sizing: border-box;margin-bottom: 0.5em;}#sk-container-id-1 div.sk-estimator:hover {background-color: #d4ebff;}#sk-container-id-1 div.sk-parallel-item::after {content: \"\";width: 100%;border-bottom: 1px solid gray;flex-grow: 1;}#sk-container-id-1 div.sk-label:hover label.sk-toggleable__label {background-color: #d4ebff;}#sk-container-id-1 div.sk-serial::before {content: \"\";position: absolute;border-left: 1px solid gray;box-sizing: border-box;top: 0;bottom: 0;left: 50%;z-index: 0;}#sk-container-id-1 div.sk-serial {display: flex;flex-direction: column;align-items: center;background-color: white;padding-right: 0.2em;padding-left: 0.2em;position: relative;}#sk-container-id-1 div.sk-item {position: relative;z-index: 1;}#sk-container-id-1 div.sk-parallel {display: flex;align-items: stretch;justify-content: center;background-color: white;position: relative;}#sk-container-id-1 div.sk-item::before, #sk-container-id-1 div.sk-parallel-item::before {content: \"\";position: absolute;border-left: 1px solid gray;box-sizing: border-box;top: 0;bottom: 0;left: 50%;z-index: -1;}#sk-container-id-1 div.sk-parallel-item {display: flex;flex-direction: column;z-index: 1;position: relative;background-color: white;}#sk-container-id-1 div.sk-parallel-item:first-child::after {align-self: flex-end;width: 50%;}#sk-container-id-1 div.sk-parallel-item:last-child::after {align-self: flex-start;width: 50%;}#sk-container-id-1 div.sk-parallel-item:only-child::after {width: 0;}#sk-container-id-1 div.sk-dashed-wrapped {border: 1px dashed gray;margin: 0 0.4em 0.5em 0.4em;box-sizing: border-box;padding-bottom: 0.4em;background-color: white;}#sk-container-id-1 div.sk-label label {font-family: monospace;font-weight: bold;display: inline-block;line-height: 1.2em;}#sk-container-id-1 div.sk-label-container {text-align: center;}#sk-container-id-1 div.sk-container {/* jupyter's `normalize.less` sets `[hidden] { display: none; }` but bootstrap.min.css set `[hidden] { display: none !important; }` so we also need the `!important` here to be able to override the default hidden behavior on the sphinx rendered scikit-learn.org. See: https://github.com/scikit-learn/scikit-learn/issues/21755 */display: inline-block !important;position: relative;}#sk-container-id-1 div.sk-text-repr-fallback {display: none;}</style><div id=\"sk-container-id-1\" class=\"sk-top-container\"><div class=\"sk-text-repr-fallback\"><pre>LinearRegression()</pre><b>In a Jupyter environment, please rerun this cell to show the HTML representation or trust the notebook. <br />On GitHub, the HTML representation is unable to render, please try loading this page with nbviewer.org.</b></div><div class=\"sk-container\" hidden><div class=\"sk-item\"><div class=\"sk-estimator sk-toggleable\"><input class=\"sk-toggleable__control sk-hidden--visually\" id=\"sk-estimator-id-1\" type=\"checkbox\" checked><label for=\"sk-estimator-id-1\" class=\"sk-toggleable__label sk-toggleable__label-arrow\">LinearRegression</label><div class=\"sk-toggleable__content\"><pre>LinearRegression()</pre></div></div></div></div></div>"
      ],
      "text/plain": [
       "LinearRegression()"
      ]
     },
     "execution_count": 26,
     "metadata": {},
     "output_type": "execute_result"
    }
   ],
   "source": [
    "lr.fit(X_train,y_train)"
   ]
  },
  {
   "cell_type": "code",
   "execution_count": 27,
   "id": "099b7939-a18c-4e2c-94d9-134ac88dcda6",
   "metadata": {},
   "outputs": [
    {
     "data": {
      "text/html": [
       "<div>\n",
       "<style scoped>\n",
       "    .dataframe tbody tr th:only-of-type {\n",
       "        vertical-align: middle;\n",
       "    }\n",
       "\n",
       "    .dataframe tbody tr th {\n",
       "        vertical-align: top;\n",
       "    }\n",
       "\n",
       "    .dataframe thead th {\n",
       "        text-align: right;\n",
       "    }\n",
       "</style>\n",
       "<table border=\"1\" class=\"dataframe\">\n",
       "  <thead>\n",
       "    <tr style=\"text-align: right;\">\n",
       "      <th></th>\n",
       "      <th>YearsExperience</th>\n",
       "    </tr>\n",
       "  </thead>\n",
       "  <tbody>\n",
       "    <tr>\n",
       "      <th>15</th>\n",
       "      <td>6.8</td>\n",
       "    </tr>\n",
       "    <tr>\n",
       "      <th>11</th>\n",
       "      <td>4.9</td>\n",
       "    </tr>\n",
       "    <tr>\n",
       "      <th>5</th>\n",
       "      <td>3.2</td>\n",
       "    </tr>\n",
       "    <tr>\n",
       "      <th>4</th>\n",
       "      <td>2.9</td>\n",
       "    </tr>\n",
       "    <tr>\n",
       "      <th>0</th>\n",
       "      <td>1.1</td>\n",
       "    </tr>\n",
       "    <tr>\n",
       "      <th>20</th>\n",
       "      <td>9.5</td>\n",
       "    </tr>\n",
       "    <tr>\n",
       "      <th>28</th>\n",
       "      <td>13.5</td>\n",
       "    </tr>\n",
       "    <tr>\n",
       "      <th>26</th>\n",
       "      <td>12.3</td>\n",
       "    </tr>\n",
       "    <tr>\n",
       "      <th>22</th>\n",
       "      <td>10.3</td>\n",
       "    </tr>\n",
       "    <tr>\n",
       "      <th>19</th>\n",
       "      <td>8.7</td>\n",
       "    </tr>\n",
       "    <tr>\n",
       "      <th>13</th>\n",
       "      <td>5.3</td>\n",
       "    </tr>\n",
       "    <tr>\n",
       "      <th>24</th>\n",
       "      <td>11.2</td>\n",
       "    </tr>\n",
       "  </tbody>\n",
       "</table>\n",
       "</div>"
      ],
      "text/plain": [
       "    YearsExperience\n",
       "15              6.8\n",
       "11              4.9\n",
       "5               3.2\n",
       "4               2.9\n",
       "0               1.1\n",
       "20              9.5\n",
       "28             13.5\n",
       "26             12.3\n",
       "22             10.3\n",
       "19              8.7\n",
       "13              5.3\n",
       "24             11.2"
      ]
     },
     "execution_count": 27,
     "metadata": {},
     "output_type": "execute_result"
    }
   ],
   "source": [
    "X_test"
   ]
  },
  {
   "cell_type": "code",
   "execution_count": 28,
   "id": "c6930911-f72e-49a5-aff9-641d0a4bb42b",
   "metadata": {},
   "outputs": [
    {
     "data": {
      "text/plain": [
       "15     91738\n",
       "11     67938\n",
       "5      54445\n",
       "4      56642\n",
       "0      39343\n",
       "20    116969\n",
       "28    139465\n",
       "26    128765\n",
       "22    122391\n",
       "19    109431\n",
       "13     83088\n",
       "24    127345\n",
       "Name: Salary, dtype: int64"
      ]
     },
     "execution_count": 28,
     "metadata": {},
     "output_type": "execute_result"
    }
   ],
   "source": [
    "y_test"
   ]
  },
  {
   "cell_type": "markdown",
   "id": "28e0e6e0-1c83-4578-8d4a-bf0331b1fcf9",
   "metadata": {},
   "source": [
    "## Predicting"
   ]
  },
  {
   "cell_type": "code",
   "execution_count": 33,
   "id": "dc6f7883-586e-4378-b052-cfba6be7997b",
   "metadata": {},
   "outputs": [
    {
     "name": "stderr",
     "output_type": "stream",
     "text": [
      "c:\\python\\python38\\lib\\site-packages\\sklearn\\base.py:465: UserWarning: X does not have valid feature names, but LinearRegression was fitted with feature names\n",
      "  warnings.warn(\n"
     ]
    },
    {
     "data": {
      "text/plain": [
       "array([55909.68057581])"
      ]
     },
     "execution_count": 33,
     "metadata": {},
     "output_type": "execute_result"
    }
   ],
   "source": [
    "lr.predict(X_test.iloc[2].values.reshape(1,1))"
   ]
  },
  {
   "cell_type": "markdown",
   "id": "93133f23-3e08-4b2e-bf36-ce846adbc4ef",
   "metadata": {},
   "source": [
    "## Calculating Metrics"
   ]
  },
  {
   "cell_type": "code",
   "execution_count": 34,
   "id": "7dbaa1bf-419d-43b8-b55a-acd8b5d3ffbd",
   "metadata": {},
   "outputs": [],
   "source": [
    "from sklearn.metrics import mean_absolute_error,mean_squared_error,r2_score"
   ]
  },
  {
   "cell_type": "code",
   "execution_count": 44,
   "id": "cdb5caee-104b-4bfd-b964-5209829addb4",
   "metadata": {},
   "outputs": [],
   "source": [
    "y_pred=lr.predict(X_test)"
   ]
  },
  {
   "cell_type": "code",
   "execution_count": 40,
   "id": "115d654d-53cf-4f2d-99ad-db3e6a4f6f74",
   "metadata": {},
   "outputs": [
    {
     "data": {
      "text/plain": [
       "array([ 91738,  67938,  54445,  56642,  39343, 116969, 139465, 128765,\n",
       "       122391, 109431,  83088, 127345], dtype=int64)"
      ]
     },
     "execution_count": 40,
     "metadata": {},
     "output_type": "execute_result"
    }
   ],
   "source": [
    "y_test.values"
   ]
  },
  {
   "cell_type": "code",
   "execution_count": 46,
   "id": "14850490-2633-4479-af49-ac2ec41bb92c",
   "metadata": {},
   "outputs": [
    {
     "name": "stdout",
     "output_type": "stream",
     "text": [
      "MAE 4297.975374589193\n"
     ]
    }
   ],
   "source": [
    "print(\"MAE\",mean_absolute_error(y_test,y_pred))"
   ]
  },
  {
   "cell_type": "code",
   "execution_count": 47,
   "id": "e66403d3-40f4-4c49-805e-6d3b0d74be56",
   "metadata": {},
   "outputs": [
    {
     "name": "stdout",
     "output_type": "stream",
     "text": [
      "MSE 25383446.648344327\n"
     ]
    }
   ],
   "source": [
    "print(\"MSE\",mean_squared_error(y_test,y_pred))"
   ]
  },
  {
   "cell_type": "code",
   "execution_count": 48,
   "id": "77834ba4-d41e-4eb2-9dc7-e1e14e069ff1",
   "metadata": {},
   "outputs": [
    {
     "name": "stdout",
     "output_type": "stream",
     "text": [
      "RMSE 5038.1987503813625\n"
     ]
    }
   ],
   "source": [
    "print(\"RMSE\",np.sqrt(mean_squared_error(y_test,y_pred)))"
   ]
  },
  {
   "cell_type": "code",
   "execution_count": 50,
   "id": "43437f50-6289-4784-8300-4522dc0cebbf",
   "metadata": {},
   "outputs": [
    {
     "name": "stdout",
     "output_type": "stream",
     "text": [
      "R2score 0.9760207502693964\n"
     ]
    }
   ],
   "source": [
    "print(\"R2score\",r2_score(y_test,y_pred))\n",
    "r2=r2_score(y_test,y_pred)"
   ]
  },
  {
   "cell_type": "code",
   "execution_count": 54,
   "id": "e31eef4a-331e-4364-9a56-b66a15e5d279",
   "metadata": {},
   "outputs": [
    {
     "data": {
      "text/plain": [
       "0.973622825296336"
      ]
     },
     "execution_count": 54,
     "metadata": {},
     "output_type": "execute_result"
    }
   ],
   "source": [
    "#Adjusted R2score\n",
    "1-((1-r2)*(12-1)/(12-1-1))\n"
   ]
  },
  {
   "cell_type": "markdown",
   "id": "4fa6f95b-453f-4fc2-b0ee-6f1a55ca6af6",
   "metadata": {},
   "source": [
    "## Conclusion-Our model is quite accurate as it is able to explain 97.3% variance in salary due to Years of experience."
   ]
  },
  {
   "cell_type": "code",
   "execution_count": null,
   "id": "65be2f50-b0dd-4ac1-890a-e2803e2e7936",
   "metadata": {},
   "outputs": [],
   "source": []
  }
 ],
 "metadata": {
  "kernelspec": {
   "display_name": "Python 3 (ipykernel)",
   "language": "python",
   "name": "python3"
  },
  "language_info": {
   "codemirror_mode": {
    "name": "ipython",
    "version": 3
   },
   "file_extension": ".py",
   "mimetype": "text/x-python",
   "name": "python",
   "nbconvert_exporter": "python",
   "pygments_lexer": "ipython3",
   "version": "3.8.1"
  }
 },
 "nbformat": 4,
 "nbformat_minor": 5
}
